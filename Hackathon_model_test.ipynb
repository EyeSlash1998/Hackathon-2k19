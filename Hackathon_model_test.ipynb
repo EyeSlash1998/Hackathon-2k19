{
  "nbformat": 4,
  "nbformat_minor": 0,
  "metadata": {
    "colab": {
      "name": "Hackathon_model_test.ipynb",
      "provenance": [],
      "collapsed_sections": []
    },
    "kernelspec": {
      "name": "python3",
      "display_name": "Python 3"
    },
    "accelerator": "GPU"
  },
  "cells": [
    {
      "cell_type": "code",
      "metadata": {
        "id": "TuNlHFuJShBf",
        "colab_type": "code",
        "colab": {
          "base_uri": "https://localhost:8080/",
          "height": 326
        },
        "outputId": "a139d819-00f5-4054-f368-35ede1ae8210"
      },
      "source": [
        "import cv2\n",
        "import numpy as np\n",
        "from tensorflow.keras.models import load_model\n",
        "from google.colab import drive\n",
        "drive.mount('/content/drive')\n",
        "\n",
        "\n",
        "model = load_model('/content/drive/My Drive/Hackathon-Alphacode/CelebModel.h5')\n",
        "\n",
        "#categories = ['DalaiLama','ArseneWenger','GeneliaDsouza', 'LuizSuarez', 'SergioAguero']"
      ],
      "execution_count": 1,
      "outputs": [
        {
          "output_type": "stream",
          "text": [
            "Go to this URL in a browser: https://accounts.google.com/o/oauth2/auth?client_id=947318989803-6bn6qk8qdgf4n4g3pfee6491hc0brc4i.apps.googleusercontent.com&redirect_uri=urn%3Aietf%3Awg%3Aoauth%3A2.0%3Aoob&scope=email%20https%3A%2F%2Fwww.googleapis.com%2Fauth%2Fdocs.test%20https%3A%2F%2Fwww.googleapis.com%2Fauth%2Fdrive%20https%3A%2F%2Fwww.googleapis.com%2Fauth%2Fdrive.photos.readonly%20https%3A%2F%2Fwww.googleapis.com%2Fauth%2Fpeopleapi.readonly&response_type=code\n",
            "\n",
            "Enter your authorization code:\n",
            "··········\n",
            "Mounted at /content/drive\n",
            "WARNING:tensorflow:From /usr/local/lib/python3.6/dist-packages/tensorflow/python/ops/init_ops.py:97: calling GlorotUniform.__init__ (from tensorflow.python.ops.init_ops) with dtype is deprecated and will be removed in a future version.\n",
            "Instructions for updating:\n",
            "Call initializer instance with the dtype argument instead of passing it to the constructor\n",
            "WARNING:tensorflow:From /usr/local/lib/python3.6/dist-packages/tensorflow/python/ops/init_ops.py:1251: calling VarianceScaling.__init__ (from tensorflow.python.ops.init_ops) with dtype is deprecated and will be removed in a future version.\n",
            "Instructions for updating:\n",
            "Call initializer instance with the dtype argument instead of passing it to the constructor\n",
            "WARNING:tensorflow:From /usr/local/lib/python3.6/dist-packages/tensorflow/python/ops/init_ops.py:97: calling Zeros.__init__ (from tensorflow.python.ops.init_ops) with dtype is deprecated and will be removed in a future version.\n",
            "Instructions for updating:\n",
            "Call initializer instance with the dtype argument instead of passing it to the constructor\n",
            "WARNING:tensorflow:From /usr/local/lib/python3.6/dist-packages/tensorflow/python/ops/init_ops.py:97: calling Ones.__init__ (from tensorflow.python.ops.init_ops) with dtype is deprecated and will be removed in a future version.\n",
            "Instructions for updating:\n",
            "Call initializer instance with the dtype argument instead of passing it to the constructor\n"
          ],
          "name": "stdout"
        }
      ]
    },
    {
      "cell_type": "code",
      "metadata": {
        "id": "ojt-GNbVSrYQ",
        "colab_type": "code",
        "colab": {
          "base_uri": "https://localhost:8080/",
          "height": 204
        },
        "outputId": "3a687123-9f88-49bd-f7cf-83e56eb9f69f"
      },
      "source": [
        "image_url = 'https://e0.365dm.com/18/08/2048x1152/skysports-sergio-aguero-manchester_4394682.jpg'\n",
        "!wget $image_url"
      ],
      "execution_count": 2,
      "outputs": [
        {
          "output_type": "stream",
          "text": [
            "--2019-09-25 07:24:01--  https://e0.365dm.com/18/08/2048x1152/skysports-sergio-aguero-manchester_4394682.jpg\n",
            "Resolving e0.365dm.com (e0.365dm.com)... 8.250.213.252, 8.249.31.252, 8.250.235.252, ...\n",
            "Connecting to e0.365dm.com (e0.365dm.com)|8.250.213.252|:443... connected.\n",
            "HTTP request sent, awaiting response... 200 OK\n",
            "Length: 211577 (207K) [image/jpeg]\n",
            "Saving to: ‘skysports-sergio-aguero-manchester_4394682.jpg’\n",
            "\n",
            "skysports-sergio-ag 100%[===================>] 206.62K   701KB/s    in 0.3s    \n",
            "\n",
            "2019-09-25 07:24:03 (701 KB/s) - ‘skysports-sergio-aguero-manchester_4394682.jpg’ saved [211577/211577]\n",
            "\n"
          ],
          "name": "stdout"
        }
      ]
    },
    {
      "cell_type": "code",
      "metadata": {
        "id": "-hUVcsxMSwHI",
        "colab_type": "code",
        "colab": {}
      },
      "source": [
        "output_label = ['Dalai Lama','Arsene Wenger','Genelia Dsouza', 'Luiz Suarez', 'Sergio Aguero']"
      ],
      "execution_count": 0,
      "outputs": []
    },
    {
      "cell_type": "code",
      "metadata": {
        "id": "EUUs4izoSyjJ",
        "colab_type": "code",
        "colab": {}
      },
      "source": [
        "img_path = \"/content/skysports-sergio-aguero-manchester_4394682.jpg\"\n",
        "img_array = cv2.imread(img_path)\n",
        "\n",
        "new_path=[]\n",
        "new_path = cv2.resize(img_array, (150,150))\n",
        "\n",
        "#Convert to array and reshape\n",
        "to_predict_data = np.array(new_path).reshape(1,150,150,3)\n",
        "#Normalize\n",
        "to_predict_data = to_predict_data/255\n",
        "\n",
        "predicted_data = model.predict(to_predict_data)"
      ],
      "execution_count": 0,
      "outputs": []
    },
    {
      "cell_type": "code",
      "metadata": {
        "id": "IXSdL22KS4Z8",
        "colab_type": "code",
        "colab": {
          "base_uri": "https://localhost:8080/",
          "height": 68
        },
        "outputId": "38ffb265-06f4-4699-d54e-bf9390405d38"
      },
      "source": [
        "print(predicted_data)\n",
        "predicted_class = np.argmax(predicted_data)\n",
        "print('Class index : ',predicted_class)\n",
        "print('Prediction : Image is ',output_label[predicted_class])"
      ],
      "execution_count": 5,
      "outputs": [
        {
          "output_type": "stream",
          "text": [
            "[[2.6462294e-05 8.2824714e-05 4.2370147e-07 5.6118965e-02 9.4377136e-01]]\n",
            "Class index :  4\n",
            "Prediction : Image is  Sergio Aguero\n"
          ],
          "name": "stdout"
        }
      ]
    }
  ]
}